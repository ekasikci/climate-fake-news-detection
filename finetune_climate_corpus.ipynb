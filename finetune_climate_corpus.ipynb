{
 "cells": [
  {
   "cell_type": "code",
   "execution_count": 1,
   "metadata": {},
   "outputs": [
    {
     "name": "stdout",
     "output_type": "stream",
     "text": [
      "Loaded 579 files from dataset\\fr\n"
     ]
    }
   ],
   "source": [
    "import os\n",
    "\n",
    "def load_text_files(folder_path):\n",
    "    texts = []\n",
    "    for filename in os.listdir(folder_path):\n",
    "        file_path = os.path.join(folder_path, filename)\n",
    "        if os.path.isfile(file_path):\n",
    "            with open(file_path, \"r\", encoding=\"utf-8\") as file:\n",
    "                texts.append(file.read())\n",
    "    return texts\n",
    "\n",
    "data_path = \"dataset\\\\fr\"\n",
    "texts = load_text_files(data_path)\n",
    "\n",
    "print(f\"Loaded {len(texts)} files from {data_path}\")"
   ]
  },
  {
   "cell_type": "code",
   "execution_count": 2,
   "metadata": {},
   "outputs": [
    {
     "name": "stderr",
     "output_type": "stream",
     "text": [
      "d:\\anaconda3\\envs\\climate-fake-news-detection\\lib\\site-packages\\tqdm\\auto.py:21: TqdmWarning: IProgress not found. Please update jupyter and ipywidgets. See https://ipywidgets.readthedocs.io/en/stable/user_install.html\n",
      "  from .autonotebook import tqdm as notebook_tqdm\n"
     ]
    },
    {
     "name": "stdout",
     "output_type": "stream",
     "text": [
      "Dataset({\n",
      "    features: ['text'],\n",
      "    num_rows: 579\n",
      "})\n",
      "{'text': \"S'incrivant dans la tendance au réchauffement à long terme enregistrée depuis l'époque préindustrielle, la température moyenne à la surface du globe observée pour la décennie 2006-2015 a été supérieure de 0,87 °C (avec une fourchette probable comprise entre 0,75 °C et 0,99 °C) à la température moyenne pour la période 1850-1900 (degré de confiance très élevé). Le réchauffement planétaire anthropique estimé correspond au niveau de réchauffement observé à ± 20 % près (fourchette probable) et augmente actuellement de 0,2 °C (fourchette probable comprise entre 0,1 °C et 0,3 °C) par décennie sous l'effet des émissions passées et présentes (degré de confiance élevé).\"}\n"
     ]
    }
   ],
   "source": [
    "from datasets import Dataset\n",
    "\n",
    "dataset = Dataset.from_dict({\"text\": texts})\n",
    "print(dataset)\n",
    "print(dataset[1])\n"
   ]
  },
  {
   "cell_type": "code",
   "execution_count": 3,
   "metadata": {},
   "outputs": [
    {
     "name": "stderr",
     "output_type": "stream",
     "text": [
      "Map: 100%|██████████| 579/579 [00:00<00:00, 4406.67 examples/s]"
     ]
    },
    {
     "name": "stdout",
     "output_type": "stream",
     "text": [
      "Dataset({\n",
      "    features: ['input_ids', 'attention_mask'],\n",
      "    num_rows: 579\n",
      "})\n"
     ]
    },
    {
     "name": "stderr",
     "output_type": "stream",
     "text": [
      "\n"
     ]
    }
   ],
   "source": [
    "from transformers import AutoTokenizer\n",
    "\n",
    "tokenizer = AutoTokenizer.from_pretrained(\"xlm-roberta-base\")\n",
    "\n",
    "def tokenize_function(examples):\n",
    "    return tokenizer(examples[\"text\"], truncation=True, padding=\"max_length\", max_length=512)\n",
    "\n",
    "tokenized_dataset = dataset.map(tokenize_function, batched=True, remove_columns=[\"text\"])\n",
    "print(tokenized_dataset)\n"
   ]
  },
  {
   "cell_type": "code",
   "execution_count": 4,
   "metadata": {},
   "outputs": [],
   "source": [
    "from transformers import DataCollatorForLanguageModeling\n",
    "\n",
    "data_collator = DataCollatorForLanguageModeling(tokenizer=tokenizer, mlm=True, mlm_probability=0.15)\n"
   ]
  },
  {
   "cell_type": "code",
   "execution_count": 5,
   "metadata": {},
   "outputs": [],
   "source": [
    "tokenized_dataset = tokenized_dataset.train_test_split(test_size=0.1)  # 90% train, 10% validation\n",
    "train_dataset = tokenized_dataset[\"train\"]\n",
    "eval_dataset = tokenized_dataset[\"test\"]"
   ]
  },
  {
   "cell_type": "code",
   "execution_count": 6,
   "metadata": {},
   "outputs": [
    {
     "name": "stderr",
     "output_type": "stream",
     "text": [
      "Some weights of the model checkpoint at xlm-roberta-base were not used when initializing XLMRobertaForMaskedLM: ['roberta.pooler.dense.bias', 'roberta.pooler.dense.weight']\n",
      "- This IS expected if you are initializing XLMRobertaForMaskedLM from the checkpoint of a model trained on another task or with another architecture (e.g. initializing a BertForSequenceClassification model from a BertForPreTraining model).\n",
      "- This IS NOT expected if you are initializing XLMRobertaForMaskedLM from the checkpoint of a model that you expect to be exactly identical (initializing a BertForSequenceClassification model from a BertForSequenceClassification model).\n",
      "C:\\Users\\ekasi\\AppData\\Local\\Temp\\ipykernel_13796\\489434043.py:30: FutureWarning: `tokenizer` is deprecated and will be removed in version 5.0.0 for `Trainer.__init__`. Use `processing_class` instead.\n",
      "  trainer = Trainer(\n"
     ]
    },
    {
     "name": "stdout",
     "output_type": "stream",
     "text": [
      "Using device: NVIDIA GeForce RTX 4060 Laptop GPU\n"
     ]
    }
   ],
   "source": [
    "from transformers import AutoModelForMaskedLM, EarlyStoppingCallback, TrainingArguments, Trainer\n",
    "from torch import cuda\n",
    "\n",
    "model = AutoModelForMaskedLM.from_pretrained(\"xlm-roberta-base\")\n",
    "\n",
    "training_args = TrainingArguments(\n",
    "    output_dir=\"./results\",                          # Output directory for model checkpoints and logs\n",
    "    per_device_train_batch_size=8,                   # Batch size per device during training\n",
    "    num_train_epochs=100,                            # Number of training epochs\n",
    "    eval_strategy=\"epoch\",                           # Evaluation strategy to run at each epoch\n",
    "    logging_dir=\"./logs\",                            # Directory for logging\n",
    "    save_strategy=\"epoch\",                           # Save model after each epoch\n",
    "    load_best_model_at_end=True,                     # Load the best model when training finishes\n",
    "    metric_for_best_model=\"eval_loss\",               # Metric to use for selecting the best model\n",
    "    logging_strategy=\"epoch\",                        # Log training information at each epoch\n",
    "    save_total_limit=3,                              # Limit number of saved checkpoints to avoid excessive storage use\n",
    "    gradient_accumulation_steps=2,                   # Accumulate gradients for larger effective batch sizes\n",
    "    fp16=True,                                       # Enable mixed precision for faster training (if using a compatible GPU)\n",
    ")\n",
    "\n",
    "print(f\"Using device: {cuda.get_device_name(0) if cuda.is_available() else 'cpu'}\")\n",
    "\n",
    "early_stopping = EarlyStoppingCallback(early_stopping_patience=3)\n",
    "\n",
    "trainer = Trainer(\n",
    "    model=model,\n",
    "    args=training_args,\n",
    "    train_dataset=train_dataset,                  \n",
    "    eval_dataset=eval_dataset,                    \n",
    "    tokenizer=tokenizer,                          \n",
    "    data_collator=data_collator,                   \n",
    "    callbacks=[early_stopping],                   \n",
    ")"
   ]
  },
  {
   "cell_type": "code",
   "execution_count": 7,
   "metadata": {},
   "outputs": [
    {
     "data": {
      "text/html": [
       "\n",
       "    <div>\n",
       "      \n",
       "      <progress value='198' max='3300' style='width:300px; height:20px; vertical-align: middle;'></progress>\n",
       "      [ 198/3300 34:09 < 9:00:38, 0.10 it/s, Epoch 6/100]\n",
       "    </div>\n",
       "    <table border=\"1\" class=\"dataframe\">\n",
       "  <thead>\n",
       " <tr style=\"text-align: left;\">\n",
       "      <th>Epoch</th>\n",
       "      <th>Training Loss</th>\n",
       "      <th>Validation Loss</th>\n",
       "    </tr>\n",
       "  </thead>\n",
       "  <tbody>\n",
       "    <tr>\n",
       "      <td>1</td>\n",
       "      <td>0.832800</td>\n",
       "      <td>0.642187</td>\n",
       "    </tr>\n",
       "    <tr>\n",
       "      <td>2</td>\n",
       "      <td>0.759200</td>\n",
       "      <td>0.764704</td>\n",
       "    </tr>\n",
       "    <tr>\n",
       "      <td>3</td>\n",
       "      <td>0.677900</td>\n",
       "      <td>0.563641</td>\n",
       "    </tr>\n",
       "    <tr>\n",
       "      <td>4</td>\n",
       "      <td>0.642600</td>\n",
       "      <td>0.685764</td>\n",
       "    </tr>\n",
       "    <tr>\n",
       "      <td>5</td>\n",
       "      <td>0.625000</td>\n",
       "      <td>0.590148</td>\n",
       "    </tr>\n",
       "    <tr>\n",
       "      <td>6</td>\n",
       "      <td>0.620800</td>\n",
       "      <td>0.692941</td>\n",
       "    </tr>\n",
       "  </tbody>\n",
       "</table><p>"
      ],
      "text/plain": [
       "<IPython.core.display.HTML object>"
      ]
     },
     "metadata": {},
     "output_type": "display_data"
    },
    {
     "name": "stderr",
     "output_type": "stream",
     "text": [
      "There were missing keys in the checkpoint model loaded: ['lm_head.decoder.weight', 'lm_head.decoder.bias'].\n"
     ]
    },
    {
     "data": {
      "text/plain": [
       "TrainOutput(global_step=198, training_loss=0.6930262344052093, metrics={'train_runtime': 2059.6018, 'train_samples_per_second': 25.296, 'train_steps_per_second': 1.602, 'total_flos': 824885927055360.0, 'train_loss': 0.6930262344052093, 'epoch': 6.0})"
      ]
     },
     "execution_count": 7,
     "metadata": {},
     "output_type": "execute_result"
    }
   ],
   "source": [
    "trainer.train()"
   ]
  },
  {
   "cell_type": "code",
   "execution_count": 8,
   "metadata": {},
   "outputs": [
    {
     "name": "stdout",
     "output_type": "stream",
     "text": [
      "Model and tokenizer saved to ./climate_model\n"
     ]
    }
   ],
   "source": [
    "output_dir = \"./climate_model\"\n",
    "model.save_pretrained(output_dir)\n",
    "tokenizer.save_pretrained(output_dir)\n",
    "\n",
    "print(f\"Model and tokenizer saved to {output_dir}\")\n"
   ]
  },
  {
   "cell_type": "code",
   "execution_count": 9,
   "metadata": {},
   "outputs": [
    {
     "name": "stdout",
     "output_type": "stream",
     "text": [
      "Model and tokenizer loaded successfully!\n"
     ]
    }
   ],
   "source": [
    "from transformers import AutoModelForMaskedLM, AutoTokenizer  \n",
    "\n",
    "model = AutoModelForMaskedLM.from_pretrained(output_dir)  \n",
    "tokenizer = AutoTokenizer.from_pretrained(output_dir)\n",
    "\n",
    "print(\"Model and tokenizer loaded successfully!\")\n"
   ]
  },
  {
   "cell_type": "code",
   "execution_count": 10,
   "metadata": {},
   "outputs": [
    {
     "name": "stdout",
     "output_type": "stream",
     "text": [
      "MaskedLMOutput(loss=None, logits=tensor([[[ 6.2796e+01,  5.3316e-02,  3.7709e+01,  ...,  2.2795e+01,\n",
      "           1.4126e+01,  1.8775e+01],\n",
      "         [ 1.4966e+01, -8.8986e-01,  4.2025e+01,  ...,  2.2490e+01,\n",
      "           1.1169e+01,  2.1666e+01],\n",
      "         [ 2.0901e+01, -1.3913e+00,  5.8591e+01,  ...,  4.8266e+01,\n",
      "           1.7347e+01,  3.1961e+01],\n",
      "         ...,\n",
      "         [ 2.1088e+01, -1.1691e+00,  4.6046e+01,  ...,  3.6681e+01,\n",
      "           1.2837e+01,  2.6130e+01],\n",
      "         [ 3.1047e+01, -1.1032e+00,  6.1577e+01,  ...,  4.0670e+01,\n",
      "           1.7984e+01,  3.4563e+01],\n",
      "         [ 3.2348e+01, -3.1623e-01,  5.1772e+01,  ...,  3.0807e+01,\n",
      "           1.6698e+01,  2.4419e+01]]], grad_fn=<ViewBackward0>), hidden_states=None, attentions=None)\n"
     ]
    }
   ],
   "source": [
    "text = \"Climate change is a significant global issue.\"\n",
    "\n",
    "inputs = tokenizer(text, return_tensors=\"pt\", truncation=True, padding=True, max_length=512)\n",
    "\n",
    "outputs = model(**inputs)\n",
    "\n",
    "print(outputs)\n"
   ]
  },
  {
   "cell_type": "code",
   "execution_count": null,
   "metadata": {},
   "outputs": [],
   "source": []
  }
 ],
 "metadata": {
  "kernelspec": {
   "display_name": "climate-fake-news-detection",
   "language": "python",
   "name": "python3"
  },
  "language_info": {
   "codemirror_mode": {
    "name": "ipython",
    "version": 3
   },
   "file_extension": ".py",
   "mimetype": "text/x-python",
   "name": "python",
   "nbconvert_exporter": "python",
   "pygments_lexer": "ipython3",
   "version": "3.10.2"
  }
 },
 "nbformat": 4,
 "nbformat_minor": 2
}
