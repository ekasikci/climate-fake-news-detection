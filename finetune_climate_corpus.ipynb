{
 "cells": [
  {
   "cell_type": "code",
   "execution_count": 1,
   "metadata": {},
   "outputs": [
    {
     "name": "stdout",
     "output_type": "stream",
     "text": [
      "total_length: 643863\n",
      "Loaded 579 files from dataset\\fr\n"
     ]
    }
   ],
   "source": [
    "import os\n",
    "\n",
    "def load_text_files(folder_path):\n",
    "    texts = []\n",
    "    total_length = 0 \n",
    "    for filename in os.listdir(folder_path):\n",
    "        file_path = os.path.join(folder_path, filename)\n",
    "        if os.path.isfile(file_path):\n",
    "            with open(file_path, \"r\", encoding=\"utf-8\") as file:\n",
    "                content = file.read()\n",
    "                texts.append(content)\n",
    "                total_length += len(content)\n",
    "    return texts, total_length\n",
    "\n",
    "data_path = \"dataset\\\\fr\"\n",
    "texts, total_length = load_text_files(data_path) \n",
    "print(f\"total_length: {total_length}\")\n",
    "print(f\"Loaded {len(texts)} files from {data_path}\")\n"
   ]
  },
  {
   "cell_type": "code",
   "execution_count": 2,
   "metadata": {},
   "outputs": [
    {
     "name": "stderr",
     "output_type": "stream",
     "text": [
      "d:\\anaconda3\\envs\\climate-fake-news-detection\\lib\\site-packages\\tqdm\\auto.py:21: TqdmWarning: IProgress not found. Please update jupyter and ipywidgets. See https://ipywidgets.readthedocs.io/en/stable/user_install.html\n",
      "  from .autonotebook import tqdm as notebook_tqdm\n"
     ]
    },
    {
     "name": "stdout",
     "output_type": "stream",
     "text": [
      "Dataset({\n",
      "    features: ['text'],\n",
      "    num_rows: 579\n",
      "})\n",
      "{'text': \"S'incrivant dans la tendance au réchauffement à long terme enregistrée depuis l'époque préindustrielle, la température moyenne à la surface du globe observée pour la décennie 2006-2015 a été supérieure de 0,87 °C (avec une fourchette probable comprise entre 0,75 °C et 0,99 °C) à la température moyenne pour la période 1850-1900 (degré de confiance très élevé). Le réchauffement planétaire anthropique estimé correspond au niveau de réchauffement observé à ± 20 % près (fourchette probable) et augmente actuellement de 0,2 °C (fourchette probable comprise entre 0,1 °C et 0,3 °C) par décennie sous l'effet des émissions passées et présentes (degré de confiance élevé).\"}\n"
     ]
    }
   ],
   "source": [
    "from datasets import Dataset\n",
    "\n",
    "dataset = Dataset.from_dict({\"text\": texts})\n",
    "print(dataset)\n",
    "print(dataset[1])\n"
   ]
  },
  {
   "cell_type": "code",
   "execution_count": 3,
   "metadata": {},
   "outputs": [
    {
     "name": "stderr",
     "output_type": "stream",
     "text": [
      "Map: 100%|██████████| 579/579 [00:00<00:00, 4135.94 examples/s]"
     ]
    },
    {
     "name": "stdout",
     "output_type": "stream",
     "text": [
      "Dataset({\n",
      "    features: ['input_ids', 'attention_mask'],\n",
      "    num_rows: 579\n",
      "})\n"
     ]
    },
    {
     "name": "stderr",
     "output_type": "stream",
     "text": [
      "\n"
     ]
    }
   ],
   "source": [
    "from transformers import AutoTokenizer\n",
    "\n",
    "tokenizer = AutoTokenizer.from_pretrained(\"xlm-roberta-base\")\n",
    "\n",
    "def tokenize_function(examples):\n",
    "    return tokenizer(examples[\"text\"], truncation=True, padding=\"longest\")\n",
    "\n",
    "tokenized_dataset = dataset.map(tokenize_function, batched=True, remove_columns=[\"text\"])\n",
    "\n",
    "print(tokenized_dataset)"
   ]
  },
  {
   "cell_type": "code",
   "execution_count": 4,
   "metadata": {},
   "outputs": [],
   "source": [
    "from transformers import DataCollatorForLanguageModeling\n",
    "\n",
    "data_collator = DataCollatorForLanguageModeling(tokenizer=tokenizer, mlm=True, mlm_probability=0.15)\n"
   ]
  },
  {
   "cell_type": "code",
   "execution_count": 5,
   "metadata": {},
   "outputs": [],
   "source": [
    "tokenized_dataset = tokenized_dataset.train_test_split(test_size=0.1)  # 90% train, 10% validation\n",
    "train_dataset = tokenized_dataset[\"train\"]\n",
    "eval_dataset = tokenized_dataset[\"test\"]"
   ]
  },
  {
   "cell_type": "code",
   "execution_count": 6,
   "metadata": {},
   "outputs": [
    {
     "name": "stderr",
     "output_type": "stream",
     "text": [
      "Some weights of the model checkpoint at xlm-roberta-base were not used when initializing XLMRobertaForMaskedLM: ['roberta.pooler.dense.bias', 'roberta.pooler.dense.weight']\n",
      "- This IS expected if you are initializing XLMRobertaForMaskedLM from the checkpoint of a model trained on another task or with another architecture (e.g. initializing a BertForSequenceClassification model from a BertForPreTraining model).\n",
      "- This IS NOT expected if you are initializing XLMRobertaForMaskedLM from the checkpoint of a model that you expect to be exactly identical (initializing a BertForSequenceClassification model from a BertForSequenceClassification model).\n",
      "C:\\Users\\ekasi\\AppData\\Local\\Temp\\ipykernel_9616\\358287320.py:22: FutureWarning: `tokenizer` is deprecated and will be removed in version 5.0.0 for `Trainer.__init__`. Use `processing_class` instead.\n",
      "  trainer = Trainer(\n"
     ]
    },
    {
     "name": "stdout",
     "output_type": "stream",
     "text": [
      "Using device: NVIDIA GeForce RTX 4060 Laptop GPU\n"
     ]
    }
   ],
   "source": [
    "from transformers import AutoModelForMaskedLM, EarlyStoppingCallback, TrainingArguments, Trainer\n",
    "from torch import cuda\n",
    "\n",
    "model = AutoModelForMaskedLM.from_pretrained(\"xlm-roberta-base\")\n",
    "\n",
    "training_args = TrainingArguments(\n",
    "    output_dir=\"./results\",                          # Output directory for model checkpoints and logs\n",
    "    per_device_train_batch_size=8,                   # Batch size per device during training\n",
    "    num_train_epochs=100,                            # Number of training epochs\n",
    "    eval_strategy=\"epoch\",                           # Evaluation strategy to run at each epoch\n",
    "    logging_dir=\"./logs\",                            # Directory for logging\n",
    "    save_strategy=\"epoch\",                           # Save model after each epoch\n",
    "    load_best_model_at_end=True,                     # Load the best model when training finishes\n",
    "    metric_for_best_model=\"eval_loss\",               # Metric to use for selecting the best model\n",
    "    logging_strategy=\"epoch\",                        # Log training information at each epoch\n",
    ")\n",
    "\n",
    "print(f\"Using device: {cuda.get_device_name(0) if cuda.is_available() else 'cpu'}\")\n",
    "\n",
    "early_stopping = EarlyStoppingCallback(early_stopping_patience=6)\n",
    "\n",
    "trainer = Trainer(\n",
    "    model=model,\n",
    "    args=training_args,\n",
    "    train_dataset=train_dataset,                  \n",
    "    eval_dataset=eval_dataset,                    \n",
    "    tokenizer=tokenizer,                          \n",
    "    data_collator=data_collator,                   \n",
    "    callbacks=[early_stopping],                   \n",
    ")"
   ]
  },
  {
   "cell_type": "code",
   "execution_count": 7,
   "metadata": {},
   "outputs": [
    {
     "data": {
      "text/html": [
       "\n",
       "    <div>\n",
       "      \n",
       "      <progress value='462' max='6600' style='width:300px; height:20px; vertical-align: middle;'></progress>\n",
       "      [ 462/6600 1:04:40 < 14:23:01, 0.12 it/s, Epoch 7/100]\n",
       "    </div>\n",
       "    <table border=\"1\" class=\"dataframe\">\n",
       "  <thead>\n",
       " <tr style=\"text-align: left;\">\n",
       "      <th>Epoch</th>\n",
       "      <th>Training Loss</th>\n",
       "      <th>Validation Loss</th>\n",
       "    </tr>\n",
       "  </thead>\n",
       "  <tbody>\n",
       "    <tr>\n",
       "      <td>1</td>\n",
       "      <td>0.870800</td>\n",
       "      <td>0.589105</td>\n",
       "    </tr>\n",
       "    <tr>\n",
       "      <td>2</td>\n",
       "      <td>0.772600</td>\n",
       "      <td>0.607409</td>\n",
       "    </tr>\n",
       "    <tr>\n",
       "      <td>3</td>\n",
       "      <td>0.714000</td>\n",
       "      <td>0.672737</td>\n",
       "    </tr>\n",
       "    <tr>\n",
       "      <td>4</td>\n",
       "      <td>0.678000</td>\n",
       "      <td>0.648244</td>\n",
       "    </tr>\n",
       "    <tr>\n",
       "      <td>5</td>\n",
       "      <td>0.643100</td>\n",
       "      <td>0.628716</td>\n",
       "    </tr>\n",
       "    <tr>\n",
       "      <td>6</td>\n",
       "      <td>0.596200</td>\n",
       "      <td>0.598188</td>\n",
       "    </tr>\n",
       "    <tr>\n",
       "      <td>7</td>\n",
       "      <td>0.586600</td>\n",
       "      <td>0.677046</td>\n",
       "    </tr>\n",
       "  </tbody>\n",
       "</table><p>"
      ],
      "text/plain": [
       "<IPython.core.display.HTML object>"
      ]
     },
     "metadata": {},
     "output_type": "display_data"
    },
    {
     "name": "stderr",
     "output_type": "stream",
     "text": [
      "There were missing keys in the checkpoint model loaded: ['lm_head.decoder.weight', 'lm_head.decoder.bias'].\n"
     ]
    },
    {
     "data": {
      "text/plain": [
       "TrainOutput(global_step=462, training_loss=0.6944627472848603, metrics={'train_runtime': 3888.2085, 'train_samples_per_second': 13.399, 'train_steps_per_second': 1.697, 'total_flos': 962366914897920.0, 'train_loss': 0.6944627472848603, 'epoch': 7.0})"
      ]
     },
     "execution_count": 7,
     "metadata": {},
     "output_type": "execute_result"
    }
   ],
   "source": [
    "trainer.train()"
   ]
  },
  {
   "cell_type": "code",
   "execution_count": 8,
   "metadata": {},
   "outputs": [
    {
     "name": "stdout",
     "output_type": "stream",
     "text": [
      "Model and tokenizer saved to ./climate_model\n"
     ]
    }
   ],
   "source": [
    "output_dir = \"./climate_model\"\n",
    "model.save_pretrained(output_dir)\n",
    "tokenizer.save_pretrained(output_dir)\n",
    "\n",
    "print(f\"Model and tokenizer saved to {output_dir}\")\n"
   ]
  },
  {
   "cell_type": "code",
   "execution_count": 9,
   "metadata": {},
   "outputs": [
    {
     "name": "stdout",
     "output_type": "stream",
     "text": [
      "Model and tokenizer loaded successfully!\n"
     ]
    }
   ],
   "source": [
    "from transformers import AutoModelForMaskedLM, AutoTokenizer  \n",
    "\n",
    "model = AutoModelForMaskedLM.from_pretrained(output_dir)  \n",
    "tokenizer = AutoTokenizer.from_pretrained(output_dir)\n",
    "\n",
    "print(\"Model and tokenizer loaded successfully!\")\n"
   ]
  },
  {
   "cell_type": "code",
   "execution_count": 10,
   "metadata": {},
   "outputs": [
    {
     "name": "stdout",
     "output_type": "stream",
     "text": [
      "MaskedLMOutput(loss=None, logits=tensor([[[ 6.1843e+01, -4.4388e-02,  3.7883e+01,  ...,  2.4577e+01,\n",
      "           1.3972e+01,  1.9859e+01],\n",
      "         [ 1.2511e+01, -9.6129e-01,  4.2237e+01,  ...,  1.9753e+01,\n",
      "           1.0815e+01,  2.1118e+01],\n",
      "         [ 2.0193e+01, -1.5205e+00,  6.0594e+01,  ...,  4.9096e+01,\n",
      "           1.7803e+01,  3.3202e+01],\n",
      "         ...,\n",
      "         [ 2.0529e+01, -1.1429e+00,  4.6200e+01,  ...,  3.5253e+01,\n",
      "           1.2640e+01,  2.5840e+01],\n",
      "         [ 3.1179e+01, -1.2390e+00,  6.4606e+01,  ...,  4.2863e+01,\n",
      "           1.8936e+01,  3.5799e+01],\n",
      "         [ 3.5556e+01, -3.1919e-01,  5.0570e+01,  ...,  3.1470e+01,\n",
      "           1.6240e+01,  2.4642e+01]]], grad_fn=<ViewBackward0>), hidden_states=None, attentions=None)\n"
     ]
    }
   ],
   "source": [
    "text = \"Climate change is a significant global issue.\"\n",
    "\n",
    "inputs = tokenizer(text, return_tensors=\"pt\", truncation=True, padding=True, max_length=512)\n",
    "\n",
    "outputs = model(**inputs)\n",
    "\n",
    "print(outputs)\n"
   ]
  },
  {
   "cell_type": "code",
   "execution_count": null,
   "metadata": {},
   "outputs": [],
   "source": []
  }
 ],
 "metadata": {
  "kernelspec": {
   "display_name": "climate-fake-news-detection",
   "language": "python",
   "name": "python3"
  },
  "language_info": {
   "codemirror_mode": {
    "name": "ipython",
    "version": 3
   },
   "file_extension": ".py",
   "mimetype": "text/x-python",
   "name": "python",
   "nbconvert_exporter": "python",
   "pygments_lexer": "ipython3",
   "version": "3.10.2"
  }
 },
 "nbformat": 4,
 "nbformat_minor": 2
}
